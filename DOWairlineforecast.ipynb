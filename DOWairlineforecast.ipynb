{
 "cells": [
  {
   "cell_type": "code",
   "execution_count": 1,
   "metadata": {},
   "outputs": [
    {
     "data": {
      "text/plain": [
       "(0.643957324451688,\n",
       "     departure_date booking_date    forecast\n",
       " 0       2012-11-01   2012-11-01  269.000000\n",
       " 1       2012-11-08   2012-11-08  476.000000\n",
       " 2       2012-11-01   2012-10-31  271.090909\n",
       " 3       2012-11-08   2012-11-07  452.090909\n",
       " 4       2012-11-01   2012-10-30  271.454545\n",
       " ..             ...          ...         ...\n",
       " 205     2012-11-14   2012-11-02  567.272727\n",
       " 206     2012-11-07   2012-10-25  563.636364\n",
       " 207     2012-11-14   2012-11-01  562.636364\n",
       " 208     2012-11-07   2012-10-24  570.636364\n",
       " 209     2012-11-14   2012-10-31  551.636364\n",
       " \n",
       " [210 rows x 3 columns])"
      ]
     },
     "execution_count": 1,
     "metadata": {},
     "output_type": "execute_result"
    }
   ],
   "source": [
    "import pandas as pd\n",
    "  # defining a function for airline demand forecasting\n",
    "def AirlineForecast(trainingfile,validationfile):\n",
    " training=pd.read_csv(trainingfile) \n",
    " validation=pd.read_csv(validationfile)\n",
    "  #converting the date from string to date format\n",
    " training['departure_date'] = pd.to_datetime(training['departure_date']) \n",
    " training['booking_date'] = pd.to_datetime(training['booking_date'])\n",
    " validation['booking_date'] = pd.to_datetime(validation['booking_date'])\n",
    " validation['departure_date'] = pd.to_datetime(validation['departure_date'])\n",
    " valbook=pd.to_datetime(validation['booking_date'])\n",
    " valdep=pd.to_datetime(validation['departure_date'])\n",
    "  # calculating Days of Week\n",
    " training['Days']=training['booking_date'].dt.day_name()\n",
    " validation['Days']=validation['booking_date'].dt.day_name()\n",
    "  # calculating days prior \n",
    " daysprior=training['departure_date'] - training['booking_date']      \n",
    " valdaysprior=valdep-valbook             \n",
    " training['days prior']=daysprior\n",
    " validation['days prior']=valdaysprior\n",
    "  # calculating final demand\n",
    " finaldemand=training.apply(lambda row: training[(training['departure_date'] == row['departure_date']) & (training['booking_date'] == training['departure_date']) & (training['booking_date'] >= row['booking_date'])]['cum_bookings'].max(), axis=1)\n",
    " finaldemandvalidation=validation.apply(lambda row: validation[(validation['departure_date'] == row['departure_date'])&  (validation['booking_date'] == validation['departure_date'])  & (validation['booking_date'] >= row['booking_date'])]['cum_bookings'].max(), axis=1)\n",
    " training['final demand']=finaldemand\n",
    " validation['final demand']=finaldemandvalidation\n",
    "  # calculating forecast for remaining demands\n",
    " Forecastsforremainingdemand = training['final demand']-training['cum_bookings'] \n",
    " training['demandforecast']=Forecastsforremainingdemand \n",
    "# creating a data frame with columns days prior, demandforecast, and DOW\n",
    " df = pd.DataFrame({'days prior': training['days prior'], 'demandforecast': training['demandforecast'], 'DOW': training['Days']})\n",
    "  # calculating the mean of demand forecasts for particular days prior and DOW to make the mapping 1:1 in the data frame\n",
    " d = df.groupby(['days prior', 'DOW']).mean()\n",
    "  # merging the data frame to the validation data\n",
    " validationdata=validation.merge(d, left_on=['days prior', 'Days'], right_on=['days prior', 'DOW'])\n",
    "  # calculating the final forecast in the validation data by formula forecastforremainigdemand+onthebook\n",
    " validationdata['forecast']=validationdata['demandforecast']+validationdata['cum_bookings']\n",
    "  # calculates the error associated with the final forecast and naive forecast\n",
    " Error1= validationdata['final demand']-validationdata['forecast']\n",
    " Error2= validationdata['final demand']-validationdata['naive_fcst']  \n",
    "  # calculating MASE value\n",
    " MASE=abs(Error1).sum()/abs(Error2).sum()    \n",
    "  # Extracts departure date, booking date and forecast from validation data\n",
    " finaldata=pd.DataFrame({'departure_date': validationdata['departure_date'],'booking_date':validationdata['booking_date'], 'forecast':validationdata['forecast']})\n",
    " return MASE, finaldata\n",
    "AirlineForecast( \"airline_data_training.csv\", \"airline_data_validation.csv\")"
   ]
  }
 ],
 "metadata": {
  "kernelspec": {
   "display_name": "Python 3",
   "language": "python",
   "name": "python3"
  },
  "language_info": {
   "codemirror_mode": {
    "name": "ipython",
    "version": 3
   },
   "file_extension": ".py",
   "mimetype": "text/x-python",
   "name": "python",
   "nbconvert_exporter": "python",
   "pygments_lexer": "ipython3",
   "version": "3.11.5"
  },
  "orig_nbformat": 4
 },
 "nbformat": 4,
 "nbformat_minor": 2
}
